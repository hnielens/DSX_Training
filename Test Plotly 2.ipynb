{
    "metadata": {
        "language_info": {
            "codemirror_mode": {
                "name": "ipython", 
                "version": 2
            }, 
            "file_extension": ".py", 
            "pygments_lexer": "ipython2", 
            "name": "python", 
            "mimetype": "text/x-python", 
            "nbconvert_exporter": "python", 
            "version": "2.7.11"
        }, 
        "kernelspec": {
            "display_name": "Python 2 with Spark 2.0", 
            "name": "python2-spark20", 
            "language": "python"
        }
    }, 
    "nbformat": 4, 
    "cells": [
        {
            "source": "import plotly\nfrom plotly.graph_objs import Scatter, Layout\n\nplotly.offline.init_notebook_mode(connected=True)\n\nplotly.offline.iplot({\n    \"data\": [Scatter(x=[1, 2, 3, 4], y=[4, 3, 2, 1])],\n    \"layout\": Layout(title=\"hello world\")\n})", 
            "metadata": {
                "collapsed": false
            }, 
            "execution_count": 3, 
            "cell_type": "code", 
            "outputs": [
                {
                    "data": {
                        "text/html": "<script>requirejs.config({paths: { 'plotly': ['https://cdn.plot.ly/plotly-latest.min']},});if(!window.Plotly) {{require(['plotly'],function(plotly) {window.Plotly=plotly;});}}</script>", 
                        "text/vnd.plotly.v1+html": "<script>requirejs.config({paths: { 'plotly': ['https://cdn.plot.ly/plotly-latest.min']},});if(!window.Plotly) {{require(['plotly'],function(plotly) {window.Plotly=plotly;});}}</script>"
                    }, 
                    "metadata": {}, 
                    "output_type": "display_data"
                }, 
                {
                    "data": {
                        "text/html": "<div id=\"ae5d6ce1-1398-437e-8eb1-4534954b9d78\" style=\"height: 525px; width: 100%;\" class=\"plotly-graph-div\"></div><script type=\"text/javascript\">require([\"plotly\"], function(Plotly) { window.PLOTLYENV=window.PLOTLYENV || {};window.PLOTLYENV.BASE_URL=\"https://plot.ly\";Plotly.newPlot(\"ae5d6ce1-1398-437e-8eb1-4534954b9d78\", [{\"y\": [4, 3, 2, 1], \"x\": [1, 2, 3, 4], \"type\": \"scatter\"}], {\"title\": \"hello world\"}, {\"linkText\": \"Export to plot.ly\", \"showLink\": true})});</script>", 
                        "application/vnd.plotly.v1+json": {
                            "data": [
                                {
                                    "type": "scatter", 
                                    "y": [
                                        4, 
                                        3, 
                                        2, 
                                        1
                                    ], 
                                    "x": [
                                        1, 
                                        2, 
                                        3, 
                                        4
                                    ]
                                }
                            ], 
                            "layout": {
                                "title": "hello world"
                            }
                        }, 
                        "text/vnd.plotly.v1+html": "<div id=\"ae5d6ce1-1398-437e-8eb1-4534954b9d78\" style=\"height: 525px; width: 100%;\" class=\"plotly-graph-div\"></div><script type=\"text/javascript\">require([\"plotly\"], function(Plotly) { window.PLOTLYENV=window.PLOTLYENV || {};window.PLOTLYENV.BASE_URL=\"https://plot.ly\";Plotly.newPlot(\"ae5d6ce1-1398-437e-8eb1-4534954b9d78\", [{\"y\": [4, 3, 2, 1], \"x\": [1, 2, 3, 4], \"type\": \"scatter\"}], {\"title\": \"hello world\"}, {\"linkText\": \"Export to plot.ly\", \"showLink\": true})});</script>"
                    }, 
                    "metadata": {}, 
                    "output_type": "display_data"
                }
            ]
        }, 
        {
            "source": "import plotly\nfrom plotly.graph_objs import *\n\nplotly.offline.init_notebook_mode(connected=True)\n\ntrace0 = Scatter(\n    x=[1, 2, 3, 4],\n    y=[10, 15, 13, 17]\n)\ntrace1 = Scatter(\n    x=[1, 2, 3, 4],\n    y=[16, 5, 11, 9]\n)\ndata = Data([trace0, trace1])\n\nplotly.offline.iplot(data, filename = 'basic-line')", 
            "metadata": {
                "collapsed": false
            }, 
            "execution_count": 4, 
            "cell_type": "code", 
            "outputs": [
                {
                    "data": {
                        "text/html": "<script>requirejs.config({paths: { 'plotly': ['https://cdn.plot.ly/plotly-latest.min']},});if(!window.Plotly) {{require(['plotly'],function(plotly) {window.Plotly=plotly;});}}</script>", 
                        "text/vnd.plotly.v1+html": "<script>requirejs.config({paths: { 'plotly': ['https://cdn.plot.ly/plotly-latest.min']},});if(!window.Plotly) {{require(['plotly'],function(plotly) {window.Plotly=plotly;});}}</script>"
                    }, 
                    "metadata": {}, 
                    "output_type": "display_data"
                }, 
                {
                    "data": {
                        "text/html": "<div id=\"da01a636-c55c-4f0a-bee3-1902c1f8123e\" style=\"height: 525px; width: 100%;\" class=\"plotly-graph-div\"></div><script type=\"text/javascript\">require([\"plotly\"], function(Plotly) { window.PLOTLYENV=window.PLOTLYENV || {};window.PLOTLYENV.BASE_URL=\"https://plot.ly\";Plotly.newPlot(\"da01a636-c55c-4f0a-bee3-1902c1f8123e\", [{\"y\": [10, 15, 13, 17], \"x\": [1, 2, 3, 4], \"type\": \"scatter\"}, {\"y\": [16, 5, 11, 9], \"x\": [1, 2, 3, 4], \"type\": \"scatter\"}], {}, {\"linkText\": \"Export to plot.ly\", \"showLink\": true})});</script>", 
                        "application/vnd.plotly.v1+json": {
                            "data": [
                                {
                                    "type": "scatter", 
                                    "y": [
                                        10, 
                                        15, 
                                        13, 
                                        17
                                    ], 
                                    "x": [
                                        1, 
                                        2, 
                                        3, 
                                        4
                                    ]
                                }, 
                                {
                                    "type": "scatter", 
                                    "y": [
                                        16, 
                                        5, 
                                        11, 
                                        9
                                    ], 
                                    "x": [
                                        1, 
                                        2, 
                                        3, 
                                        4
                                    ]
                                }
                            ], 
                            "layout": {}
                        }, 
                        "text/vnd.plotly.v1+html": "<div id=\"da01a636-c55c-4f0a-bee3-1902c1f8123e\" style=\"height: 525px; width: 100%;\" class=\"plotly-graph-div\"></div><script type=\"text/javascript\">require([\"plotly\"], function(Plotly) { window.PLOTLYENV=window.PLOTLYENV || {};window.PLOTLYENV.BASE_URL=\"https://plot.ly\";Plotly.newPlot(\"da01a636-c55c-4f0a-bee3-1902c1f8123e\", [{\"y\": [10, 15, 13, 17], \"x\": [1, 2, 3, 4], \"type\": \"scatter\"}, {\"y\": [16, 5, 11, 9], \"x\": [1, 2, 3, 4], \"type\": \"scatter\"}], {}, {\"linkText\": \"Export to plot.ly\", \"showLink\": true})});</script>"
                    }, 
                    "metadata": {}, 
                    "output_type": "display_data"
                }
            ]
        }, 
        {
            "source": "# The code was removed by DSX for sharing.", 
            "metadata": {
                "collapsed": true
            }, 
            "execution_count": 6, 
            "cell_type": "code", 
            "outputs": []
        }, 
        {
            "source": "import plotly\nfrom plotly.graph_objs import *\n\nplotly.offline.init_notebook_mode(connected=True)\n\ndata = Data([\n    Scattermapbox(\n        lat=['38.91427','38.91538','38.91458',\n             '38.92239','38.93222','38.90842',\n             '38.91931','38.93260','38.91368',\n             '38.88516','38.921894','38.93206',\n             '38.91275'],\n        lon=['-77.02827','-77.02013','-77.03155',\n             '-77.04227','-77.02854','-77.02419',\n             '-77.02518','-77.03304','-77.04509',\n             '-76.99656','-77.042438','-77.02821',\n             '-77.01239'],\n        mode='markers',\n        marker=Marker(\n            size=9\n        ),\n        text=[\"The coffee bar\",\"Bistro Bohem\",\"Black Cat\",\n             \"Snap\",\"Columbia Heights Coffee\",\"Azi's Cafe\",\n             \"Blind Dog Cafe\",\"Le Caprice\",\"Filter\",\n             \"Peregrine\",\"Tryst\",\"The Coupe\",\n             \"Big Bear Cafe\"],\n    )\n])\nlayout = Layout(\n    autosize=True,\n    hovermode='closest',\n    mapbox=dict(\n        accesstoken=mapbox_access_token,\n        bearing=0,\n        center=dict(\n            lat=38.92,\n            lon=-77.07\n        ),\n        pitch=0,\n        zoom=11\n    ),\n)\n\nfig = dict(data=data, layout=layout)\nplotly.offline.iplot(fig, filename='Multiple Mapbox')", 
            "metadata": {
                "collapsed": false
            }, 
            "execution_count": 7, 
            "cell_type": "code", 
            "outputs": [
                {
                    "data": {
                        "text/html": "<script>requirejs.config({paths: { 'plotly': ['https://cdn.plot.ly/plotly-latest.min']},});if(!window.Plotly) {{require(['plotly'],function(plotly) {window.Plotly=plotly;});}}</script>", 
                        "text/vnd.plotly.v1+html": "<script>requirejs.config({paths: { 'plotly': ['https://cdn.plot.ly/plotly-latest.min']},});if(!window.Plotly) {{require(['plotly'],function(plotly) {window.Plotly=plotly;});}}</script>"
                    }, 
                    "metadata": {}, 
                    "output_type": "display_data"
                }, 
                {
                    "data": {
                        "text/html": "<div id=\"847b1ce3-1703-4b8d-a1a3-e310259e9ba9\" style=\"height: 525px; width: 100%;\" class=\"plotly-graph-div\"></div><script type=\"text/javascript\">require([\"plotly\"], function(Plotly) { window.PLOTLYENV=window.PLOTLYENV || {};window.PLOTLYENV.BASE_URL=\"https://plot.ly\";Plotly.newPlot(\"847b1ce3-1703-4b8d-a1a3-e310259e9ba9\", [{\"text\": [\"The coffee bar\", \"Bistro Bohem\", \"Black Cat\", \"Snap\", \"Columbia Heights Coffee\", \"Azi's Cafe\", \"Blind Dog Cafe\", \"Le Caprice\", \"Filter\", \"Peregrine\", \"Tryst\", \"The Coupe\", \"Big Bear Cafe\"], \"lon\": [\"-77.02827\", \"-77.02013\", \"-77.03155\", \"-77.04227\", \"-77.02854\", \"-77.02419\", \"-77.02518\", \"-77.03304\", \"-77.04509\", \"-76.99656\", \"-77.042438\", \"-77.02821\", \"-77.01239\"], \"marker\": {\"size\": 9}, \"mode\": \"markers\", \"lat\": [\"38.91427\", \"38.91538\", \"38.91458\", \"38.92239\", \"38.93222\", \"38.90842\", \"38.91931\", \"38.93260\", \"38.91368\", \"38.88516\", \"38.921894\", \"38.93206\", \"38.91275\"], \"type\": \"scattermapbox\"}], {\"hovermode\": \"closest\", \"autosize\": true, \"mapbox\": {\"bearing\": 0, \"pitch\": 0, \"center\": {\"lat\": 38.92, \"lon\": -77.07}, \"accesstoken\": \"pk.eyJ1IjoiaG5pZWxlbnMiLCJhIjoiY2ozdWV1d2cxMDAzZDQ0a2Myamc1YWloZCJ9.iBUDKxYA37_K6_hvr7DGYg\", \"zoom\": 11}}, {\"linkText\": \"Export to plot.ly\", \"showLink\": true})});</script>", 
                        "application/vnd.plotly.v1+json": {
                            "data": [
                                {
                                    "type": "scattermapbox", 
                                    "lon": [
                                        "-77.02827", 
                                        "-77.02013", 
                                        "-77.03155", 
                                        "-77.04227", 
                                        "-77.02854", 
                                        "-77.02419", 
                                        "-77.02518", 
                                        "-77.03304", 
                                        "-77.04509", 
                                        "-76.99656", 
                                        "-77.042438", 
                                        "-77.02821", 
                                        "-77.01239"
                                    ], 
                                    "marker": {
                                        "size": 9
                                    }, 
                                    "text": [
                                        "The coffee bar", 
                                        "Bistro Bohem", 
                                        "Black Cat", 
                                        "Snap", 
                                        "Columbia Heights Coffee", 
                                        "Azi's Cafe", 
                                        "Blind Dog Cafe", 
                                        "Le Caprice", 
                                        "Filter", 
                                        "Peregrine", 
                                        "Tryst", 
                                        "The Coupe", 
                                        "Big Bear Cafe"
                                    ], 
                                    "lat": [
                                        "38.91427", 
                                        "38.91538", 
                                        "38.91458", 
                                        "38.92239", 
                                        "38.93222", 
                                        "38.90842", 
                                        "38.91931", 
                                        "38.93260", 
                                        "38.91368", 
                                        "38.88516", 
                                        "38.921894", 
                                        "38.93206", 
                                        "38.91275"
                                    ], 
                                    "mode": "markers"
                                }
                            ], 
                            "layout": {
                                "mapbox": {
                                    "center": {
                                        "lon": -77.07, 
                                        "lat": 38.92
                                    }, 
                                    "accesstoken": "pk.eyJ1IjoiaG5pZWxlbnMiLCJhIjoiY2ozdWV1d2cxMDAzZDQ0a2Myamc1YWloZCJ9.iBUDKxYA37_K6_hvr7DGYg", 
                                    "pitch": 0, 
                                    "bearing": 0, 
                                    "zoom": 11
                                }, 
                                "autosize": true, 
                                "hovermode": "closest"
                            }
                        }, 
                        "text/vnd.plotly.v1+html": "<div id=\"847b1ce3-1703-4b8d-a1a3-e310259e9ba9\" style=\"height: 525px; width: 100%;\" class=\"plotly-graph-div\"></div><script type=\"text/javascript\">require([\"plotly\"], function(Plotly) { window.PLOTLYENV=window.PLOTLYENV || {};window.PLOTLYENV.BASE_URL=\"https://plot.ly\";Plotly.newPlot(\"847b1ce3-1703-4b8d-a1a3-e310259e9ba9\", [{\"text\": [\"The coffee bar\", \"Bistro Bohem\", \"Black Cat\", \"Snap\", \"Columbia Heights Coffee\", \"Azi's Cafe\", \"Blind Dog Cafe\", \"Le Caprice\", \"Filter\", \"Peregrine\", \"Tryst\", \"The Coupe\", \"Big Bear Cafe\"], \"lon\": [\"-77.02827\", \"-77.02013\", \"-77.03155\", \"-77.04227\", \"-77.02854\", \"-77.02419\", \"-77.02518\", \"-77.03304\", \"-77.04509\", \"-76.99656\", \"-77.042438\", \"-77.02821\", \"-77.01239\"], \"marker\": {\"size\": 9}, \"mode\": \"markers\", \"lat\": [\"38.91427\", \"38.91538\", \"38.91458\", \"38.92239\", \"38.93222\", \"38.90842\", \"38.91931\", \"38.93260\", \"38.91368\", \"38.88516\", \"38.921894\", \"38.93206\", \"38.91275\"], \"type\": \"scattermapbox\"}], {\"hovermode\": \"closest\", \"autosize\": true, \"mapbox\": {\"bearing\": 0, \"pitch\": 0, \"center\": {\"lat\": 38.92, \"lon\": -77.07}, \"accesstoken\": \"pk.eyJ1IjoiaG5pZWxlbnMiLCJhIjoiY2ozdWV1d2cxMDAzZDQ0a2Myamc1YWloZCJ9.iBUDKxYA37_K6_hvr7DGYg\", \"zoom\": 11}}, {\"linkText\": \"Export to plot.ly\", \"showLink\": true})});</script>"
                    }, 
                    "metadata": {}, 
                    "output_type": "display_data"
                }
            ]
        }, 
        {
            "source": "", 
            "metadata": {
                "collapsed": true
            }, 
            "execution_count": null, 
            "cell_type": "code", 
            "outputs": []
        }
    ], 
    "nbformat_minor": 0
}